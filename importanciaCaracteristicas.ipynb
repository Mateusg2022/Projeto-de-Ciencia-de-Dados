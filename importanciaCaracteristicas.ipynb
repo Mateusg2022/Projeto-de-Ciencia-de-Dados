{
  "nbformat": 4,
  "nbformat_minor": 0,
  "metadata": {
    "colab": {
      "provenance": [],
      "mount_file_id": "1Feex-vLvlBTwaC6bVY6hYx5Me_WbsC8G",
      "authorship_tag": "ABX9TyPuKDjF/O2aToC3O+Hhy6Ow",
      "include_colab_link": true
    },
    "kernelspec": {
      "name": "python3",
      "display_name": "Python 3"
    },
    "language_info": {
      "name": "python"
    }
  },
  "cells": [
    {
      "cell_type": "markdown",
      "metadata": {
        "id": "view-in-github",
        "colab_type": "text"
      },
      "source": [
        "<a href=\"https://colab.research.google.com/github/BuxGuerra/TPICD/blob/main/importanciaCaracteristicas.ipynb\" target=\"_parent\"><img src=\"https://colab.research.google.com/assets/colab-badge.svg\" alt=\"Open In Colab\"/></a>"
      ]
    },
    {
      "cell_type": "markdown",
      "source": [
        "#Primeira análise sobre as características"
      ],
      "metadata": {
        "id": "dRyfFGnFI2ap"
      }
    },
    {
      "cell_type": "code",
      "execution_count": null,
      "metadata": {
        "id": "yF9gXqJwxe_q"
      },
      "outputs": [],
      "source": [
        "import pandas as pd\n",
        "import numpy as np\n",
        "import os\n",
        "import matplotlib.pyplot as plt"
      ]
    },
    {
      "cell_type": "markdown",
      "source": [
        "Nesse repositório existem dados sobre as temporadas 2006-2007 a 2022-23 da NBA.\n",
        "Cada temporada está em um arquivo separado cujas linhas representam os times e as colunas nos fornecem estatísticas sumarizadas dos times ao longo da temporada regular."
      ],
      "metadata": {
        "id": "VlCmo9I_JP7s"
      }
    },
    {
      "cell_type": "code",
      "source": [
        "!git clone https://github.com/BuxGuerra/TPICD.git"
      ],
      "metadata": {
        "colab": {
          "base_uri": "https://localhost:8080/"
        },
        "id": "VYm5drLE7Bwz",
        "outputId": "38a9c589-9e9f-454e-e66f-587ffa8dab5a"
      },
      "execution_count": null,
      "outputs": [
        {
          "output_type": "stream",
          "name": "stdout",
          "text": [
            "Cloning into 'TPICD'...\n",
            "remote: Enumerating objects: 75, done.\u001b[K\n",
            "remote: Counting objects: 100% (75/75), done.\u001b[K\n",
            "remote: Compressing objects: 100% (69/69), done.\u001b[K\n",
            "remote: Total 75 (delta 27), reused 0 (delta 0), pack-reused 0\u001b[K\n",
            "Receiving objects: 100% (75/75), 134.46 KiB | 3.54 MiB/s, done.\n",
            "Resolving deltas: 100% (27/27), done.\n"
          ]
        }
      ]
    },
    {
      "cell_type": "code",
      "source": [
        "dfTemporada2010 = pd.read_csv(\"/content/TPICD/data/basesSeparadas/2010-11.csv\")\n",
        "dfTemporada2010.head()"
      ],
      "metadata": {
        "colab": {
          "base_uri": "https://localhost:8080/",
          "height": 236
        },
        "id": "t7Ay5hzoQZq0",
        "outputId": "a1be5ca3-da59-42fc-f7c1-b0b7ce3a6f76"
      },
      "execution_count": null,
      "outputs": [
        {
          "output_type": "execute_result",
          "data": {
            "text/plain": [
              "   Unnamed: 0     TEAM_ID            TEAM_NAME  GP   W   L  W_PCT   MIN   FGM  \\\n",
              "0           0  1610612737        Atlanta Hawks  82  44  38  0.537  48.1  36.2   \n",
              "1           1  1610612738       Boston Celtics  82  56  26  0.683  48.2  36.9   \n",
              "2           2  1610612766    Charlotte Bobcats  82  34  48  0.415  48.3  35.0   \n",
              "3           3  1610612741        Chicago Bulls  82  62  20  0.756  48.4  37.1   \n",
              "4           4  1610612739  Cleveland Cavaliers  82  19  63  0.232  48.2  35.2   \n",
              "\n",
              "    FGA  ...  REB_RANK  AST_RANK  TOV_RANK  STL_RANK  BLK_RANK  BLKA_RANK  \\\n",
              "0  78.4  ...        28        12         9        29        28          5   \n",
              "1  75.8  ...        29         4        22         3        27         10   \n",
              "2  77.6  ...        24        18        21        28         8         29   \n",
              "3  80.3  ...         2         9        17        17         5         26   \n",
              "4  81.1  ...        22        20        18        26        28         28   \n",
              "\n",
              "   PF_RANK  PFD_RANK  PTS_RANK  PLUS_MINUS_RANK  \n",
              "0        1        29        26               16  \n",
              "1       15        22        23                6  \n",
              "2        8        13        29               24  \n",
              "3        9        24        20                2  \n",
              "4       12        10        25               30  \n",
              "\n",
              "[5 rows x 55 columns]"
            ],
            "text/html": [
              "\n",
              "  <div id=\"df-bc9a4171-6e38-45ae-9811-dc3eb48e56c1\" class=\"colab-df-container\">\n",
              "    <div>\n",
              "<style scoped>\n",
              "    .dataframe tbody tr th:only-of-type {\n",
              "        vertical-align: middle;\n",
              "    }\n",
              "\n",
              "    .dataframe tbody tr th {\n",
              "        vertical-align: top;\n",
              "    }\n",
              "\n",
              "    .dataframe thead th {\n",
              "        text-align: right;\n",
              "    }\n",
              "</style>\n",
              "<table border=\"1\" class=\"dataframe\">\n",
              "  <thead>\n",
              "    <tr style=\"text-align: right;\">\n",
              "      <th></th>\n",
              "      <th>Unnamed: 0</th>\n",
              "      <th>TEAM_ID</th>\n",
              "      <th>TEAM_NAME</th>\n",
              "      <th>GP</th>\n",
              "      <th>W</th>\n",
              "      <th>L</th>\n",
              "      <th>W_PCT</th>\n",
              "      <th>MIN</th>\n",
              "      <th>FGM</th>\n",
              "      <th>FGA</th>\n",
              "      <th>...</th>\n",
              "      <th>REB_RANK</th>\n",
              "      <th>AST_RANK</th>\n",
              "      <th>TOV_RANK</th>\n",
              "      <th>STL_RANK</th>\n",
              "      <th>BLK_RANK</th>\n",
              "      <th>BLKA_RANK</th>\n",
              "      <th>PF_RANK</th>\n",
              "      <th>PFD_RANK</th>\n",
              "      <th>PTS_RANK</th>\n",
              "      <th>PLUS_MINUS_RANK</th>\n",
              "    </tr>\n",
              "  </thead>\n",
              "  <tbody>\n",
              "    <tr>\n",
              "      <th>0</th>\n",
              "      <td>0</td>\n",
              "      <td>1610612737</td>\n",
              "      <td>Atlanta Hawks</td>\n",
              "      <td>82</td>\n",
              "      <td>44</td>\n",
              "      <td>38</td>\n",
              "      <td>0.537</td>\n",
              "      <td>48.1</td>\n",
              "      <td>36.2</td>\n",
              "      <td>78.4</td>\n",
              "      <td>...</td>\n",
              "      <td>28</td>\n",
              "      <td>12</td>\n",
              "      <td>9</td>\n",
              "      <td>29</td>\n",
              "      <td>28</td>\n",
              "      <td>5</td>\n",
              "      <td>1</td>\n",
              "      <td>29</td>\n",
              "      <td>26</td>\n",
              "      <td>16</td>\n",
              "    </tr>\n",
              "    <tr>\n",
              "      <th>1</th>\n",
              "      <td>1</td>\n",
              "      <td>1610612738</td>\n",
              "      <td>Boston Celtics</td>\n",
              "      <td>82</td>\n",
              "      <td>56</td>\n",
              "      <td>26</td>\n",
              "      <td>0.683</td>\n",
              "      <td>48.2</td>\n",
              "      <td>36.9</td>\n",
              "      <td>75.8</td>\n",
              "      <td>...</td>\n",
              "      <td>29</td>\n",
              "      <td>4</td>\n",
              "      <td>22</td>\n",
              "      <td>3</td>\n",
              "      <td>27</td>\n",
              "      <td>10</td>\n",
              "      <td>15</td>\n",
              "      <td>22</td>\n",
              "      <td>23</td>\n",
              "      <td>6</td>\n",
              "    </tr>\n",
              "    <tr>\n",
              "      <th>2</th>\n",
              "      <td>2</td>\n",
              "      <td>1610612766</td>\n",
              "      <td>Charlotte Bobcats</td>\n",
              "      <td>82</td>\n",
              "      <td>34</td>\n",
              "      <td>48</td>\n",
              "      <td>0.415</td>\n",
              "      <td>48.3</td>\n",
              "      <td>35.0</td>\n",
              "      <td>77.6</td>\n",
              "      <td>...</td>\n",
              "      <td>24</td>\n",
              "      <td>18</td>\n",
              "      <td>21</td>\n",
              "      <td>28</td>\n",
              "      <td>8</td>\n",
              "      <td>29</td>\n",
              "      <td>8</td>\n",
              "      <td>13</td>\n",
              "      <td>29</td>\n",
              "      <td>24</td>\n",
              "    </tr>\n",
              "    <tr>\n",
              "      <th>3</th>\n",
              "      <td>3</td>\n",
              "      <td>1610612741</td>\n",
              "      <td>Chicago Bulls</td>\n",
              "      <td>82</td>\n",
              "      <td>62</td>\n",
              "      <td>20</td>\n",
              "      <td>0.756</td>\n",
              "      <td>48.4</td>\n",
              "      <td>37.1</td>\n",
              "      <td>80.3</td>\n",
              "      <td>...</td>\n",
              "      <td>2</td>\n",
              "      <td>9</td>\n",
              "      <td>17</td>\n",
              "      <td>17</td>\n",
              "      <td>5</td>\n",
              "      <td>26</td>\n",
              "      <td>9</td>\n",
              "      <td>24</td>\n",
              "      <td>20</td>\n",
              "      <td>2</td>\n",
              "    </tr>\n",
              "    <tr>\n",
              "      <th>4</th>\n",
              "      <td>4</td>\n",
              "      <td>1610612739</td>\n",
              "      <td>Cleveland Cavaliers</td>\n",
              "      <td>82</td>\n",
              "      <td>19</td>\n",
              "      <td>63</td>\n",
              "      <td>0.232</td>\n",
              "      <td>48.2</td>\n",
              "      <td>35.2</td>\n",
              "      <td>81.1</td>\n",
              "      <td>...</td>\n",
              "      <td>22</td>\n",
              "      <td>20</td>\n",
              "      <td>18</td>\n",
              "      <td>26</td>\n",
              "      <td>28</td>\n",
              "      <td>28</td>\n",
              "      <td>12</td>\n",
              "      <td>10</td>\n",
              "      <td>25</td>\n",
              "      <td>30</td>\n",
              "    </tr>\n",
              "  </tbody>\n",
              "</table>\n",
              "<p>5 rows × 55 columns</p>\n",
              "</div>\n",
              "    <div class=\"colab-df-buttons\">\n",
              "\n",
              "  <div class=\"colab-df-container\">\n",
              "    <button class=\"colab-df-convert\" onclick=\"convertToInteractive('df-bc9a4171-6e38-45ae-9811-dc3eb48e56c1')\"\n",
              "            title=\"Convert this dataframe to an interactive table.\"\n",
              "            style=\"display:none;\">\n",
              "\n",
              "  <svg xmlns=\"http://www.w3.org/2000/svg\" height=\"24px\" viewBox=\"0 -960 960 960\">\n",
              "    <path d=\"M120-120v-720h720v720H120Zm60-500h600v-160H180v160Zm220 220h160v-160H400v160Zm0 220h160v-160H400v160ZM180-400h160v-160H180v160Zm440 0h160v-160H620v160ZM180-180h160v-160H180v160Zm440 0h160v-160H620v160Z\"/>\n",
              "  </svg>\n",
              "    </button>\n",
              "\n",
              "  <style>\n",
              "    .colab-df-container {\n",
              "      display:flex;\n",
              "      gap: 12px;\n",
              "    }\n",
              "\n",
              "    .colab-df-convert {\n",
              "      background-color: #E8F0FE;\n",
              "      border: none;\n",
              "      border-radius: 50%;\n",
              "      cursor: pointer;\n",
              "      display: none;\n",
              "      fill: #1967D2;\n",
              "      height: 32px;\n",
              "      padding: 0 0 0 0;\n",
              "      width: 32px;\n",
              "    }\n",
              "\n",
              "    .colab-df-convert:hover {\n",
              "      background-color: #E2EBFA;\n",
              "      box-shadow: 0px 1px 2px rgba(60, 64, 67, 0.3), 0px 1px 3px 1px rgba(60, 64, 67, 0.15);\n",
              "      fill: #174EA6;\n",
              "    }\n",
              "\n",
              "    .colab-df-buttons div {\n",
              "      margin-bottom: 4px;\n",
              "    }\n",
              "\n",
              "    [theme=dark] .colab-df-convert {\n",
              "      background-color: #3B4455;\n",
              "      fill: #D2E3FC;\n",
              "    }\n",
              "\n",
              "    [theme=dark] .colab-df-convert:hover {\n",
              "      background-color: #434B5C;\n",
              "      box-shadow: 0px 1px 3px 1px rgba(0, 0, 0, 0.15);\n",
              "      filter: drop-shadow(0px 1px 2px rgba(0, 0, 0, 0.3));\n",
              "      fill: #FFFFFF;\n",
              "    }\n",
              "  </style>\n",
              "\n",
              "    <script>\n",
              "      const buttonEl =\n",
              "        document.querySelector('#df-bc9a4171-6e38-45ae-9811-dc3eb48e56c1 button.colab-df-convert');\n",
              "      buttonEl.style.display =\n",
              "        google.colab.kernel.accessAllowed ? 'block' : 'none';\n",
              "\n",
              "      async function convertToInteractive(key) {\n",
              "        const element = document.querySelector('#df-bc9a4171-6e38-45ae-9811-dc3eb48e56c1');\n",
              "        const dataTable =\n",
              "          await google.colab.kernel.invokeFunction('convertToInteractive',\n",
              "                                                    [key], {});\n",
              "        if (!dataTable) return;\n",
              "\n",
              "        const docLinkHtml = 'Like what you see? Visit the ' +\n",
              "          '<a target=\"_blank\" href=https://colab.research.google.com/notebooks/data_table.ipynb>data table notebook</a>'\n",
              "          + ' to learn more about interactive tables.';\n",
              "        element.innerHTML = '';\n",
              "        dataTable['output_type'] = 'display_data';\n",
              "        await google.colab.output.renderOutput(dataTable, element);\n",
              "        const docLink = document.createElement('div');\n",
              "        docLink.innerHTML = docLinkHtml;\n",
              "        element.appendChild(docLink);\n",
              "      }\n",
              "    </script>\n",
              "  </div>\n",
              "\n",
              "\n",
              "<div id=\"df-cddfb662-8b8c-4af9-9f7f-f15dcb746f2e\">\n",
              "  <button class=\"colab-df-quickchart\" onclick=\"quickchart('df-cddfb662-8b8c-4af9-9f7f-f15dcb746f2e')\"\n",
              "            title=\"Suggest charts\"\n",
              "            style=\"display:none;\">\n",
              "\n",
              "<svg xmlns=\"http://www.w3.org/2000/svg\" height=\"24px\"viewBox=\"0 0 24 24\"\n",
              "     width=\"24px\">\n",
              "    <g>\n",
              "        <path d=\"M19 3H5c-1.1 0-2 .9-2 2v14c0 1.1.9 2 2 2h14c1.1 0 2-.9 2-2V5c0-1.1-.9-2-2-2zM9 17H7v-7h2v7zm4 0h-2V7h2v10zm4 0h-2v-4h2v4z\"/>\n",
              "    </g>\n",
              "</svg>\n",
              "  </button>\n",
              "\n",
              "<style>\n",
              "  .colab-df-quickchart {\n",
              "      --bg-color: #E8F0FE;\n",
              "      --fill-color: #1967D2;\n",
              "      --hover-bg-color: #E2EBFA;\n",
              "      --hover-fill-color: #174EA6;\n",
              "      --disabled-fill-color: #AAA;\n",
              "      --disabled-bg-color: #DDD;\n",
              "  }\n",
              "\n",
              "  [theme=dark] .colab-df-quickchart {\n",
              "      --bg-color: #3B4455;\n",
              "      --fill-color: #D2E3FC;\n",
              "      --hover-bg-color: #434B5C;\n",
              "      --hover-fill-color: #FFFFFF;\n",
              "      --disabled-bg-color: #3B4455;\n",
              "      --disabled-fill-color: #666;\n",
              "  }\n",
              "\n",
              "  .colab-df-quickchart {\n",
              "    background-color: var(--bg-color);\n",
              "    border: none;\n",
              "    border-radius: 50%;\n",
              "    cursor: pointer;\n",
              "    display: none;\n",
              "    fill: var(--fill-color);\n",
              "    height: 32px;\n",
              "    padding: 0;\n",
              "    width: 32px;\n",
              "  }\n",
              "\n",
              "  .colab-df-quickchart:hover {\n",
              "    background-color: var(--hover-bg-color);\n",
              "    box-shadow: 0 1px 2px rgba(60, 64, 67, 0.3), 0 1px 3px 1px rgba(60, 64, 67, 0.15);\n",
              "    fill: var(--button-hover-fill-color);\n",
              "  }\n",
              "\n",
              "  .colab-df-quickchart-complete:disabled,\n",
              "  .colab-df-quickchart-complete:disabled:hover {\n",
              "    background-color: var(--disabled-bg-color);\n",
              "    fill: var(--disabled-fill-color);\n",
              "    box-shadow: none;\n",
              "  }\n",
              "\n",
              "  .colab-df-spinner {\n",
              "    border: 2px solid var(--fill-color);\n",
              "    border-color: transparent;\n",
              "    border-bottom-color: var(--fill-color);\n",
              "    animation:\n",
              "      spin 1s steps(1) infinite;\n",
              "  }\n",
              "\n",
              "  @keyframes spin {\n",
              "    0% {\n",
              "      border-color: transparent;\n",
              "      border-bottom-color: var(--fill-color);\n",
              "      border-left-color: var(--fill-color);\n",
              "    }\n",
              "    20% {\n",
              "      border-color: transparent;\n",
              "      border-left-color: var(--fill-color);\n",
              "      border-top-color: var(--fill-color);\n",
              "    }\n",
              "    30% {\n",
              "      border-color: transparent;\n",
              "      border-left-color: var(--fill-color);\n",
              "      border-top-color: var(--fill-color);\n",
              "      border-right-color: var(--fill-color);\n",
              "    }\n",
              "    40% {\n",
              "      border-color: transparent;\n",
              "      border-right-color: var(--fill-color);\n",
              "      border-top-color: var(--fill-color);\n",
              "    }\n",
              "    60% {\n",
              "      border-color: transparent;\n",
              "      border-right-color: var(--fill-color);\n",
              "    }\n",
              "    80% {\n",
              "      border-color: transparent;\n",
              "      border-right-color: var(--fill-color);\n",
              "      border-bottom-color: var(--fill-color);\n",
              "    }\n",
              "    90% {\n",
              "      border-color: transparent;\n",
              "      border-bottom-color: var(--fill-color);\n",
              "    }\n",
              "  }\n",
              "</style>\n",
              "\n",
              "  <script>\n",
              "    async function quickchart(key) {\n",
              "      const quickchartButtonEl =\n",
              "        document.querySelector('#' + key + ' button');\n",
              "      quickchartButtonEl.disabled = true;  // To prevent multiple clicks.\n",
              "      quickchartButtonEl.classList.add('colab-df-spinner');\n",
              "      try {\n",
              "        const charts = await google.colab.kernel.invokeFunction(\n",
              "            'suggestCharts', [key], {});\n",
              "      } catch (error) {\n",
              "        console.error('Error during call to suggestCharts:', error);\n",
              "      }\n",
              "      quickchartButtonEl.classList.remove('colab-df-spinner');\n",
              "      quickchartButtonEl.classList.add('colab-df-quickchart-complete');\n",
              "    }\n",
              "    (() => {\n",
              "      let quickchartButtonEl =\n",
              "        document.querySelector('#df-cddfb662-8b8c-4af9-9f7f-f15dcb746f2e button');\n",
              "      quickchartButtonEl.style.display =\n",
              "        google.colab.kernel.accessAllowed ? 'block' : 'none';\n",
              "    })();\n",
              "  </script>\n",
              "</div>\n",
              "    </div>\n",
              "  </div>\n"
            ]
          },
          "metadata": {},
          "execution_count": 4
        }
      ]
    },
    {
      "cell_type": "markdown",
      "source": [
        "O nosso objetivo aqui é avaliar quais estatísticas foram altas com maior frequência entre os dois times que chegaram à final dos playoffs em cada temporada.\n",
        "\n",
        "Inicialmente criamos um dicionário para identificar os finalistas de cada temporada e também um outro dicionário que irá guardar a frequência de cada estatística."
      ],
      "metadata": {
        "id": "aBvTuAX9KMBs"
      }
    },
    {
      "cell_type": "code",
      "source": [
        "#Dicionário para guardar finalistas:\n",
        "seasonFirstSecond = {'2006-2007':('San Antonio Spurs','Cleveland Cavaliers'),\n",
        "                     '2007-2008':('Boston Celtics','Los Angeles Lakers'),\n",
        "                     '2008-2009':('Los Angeles Lakers','Orlando Magic'),\n",
        "                     '2009-2010':('Los Angeles Lakers','Boston Celtics'),\n",
        "                     '2010-11':('Dallas Mavericks','Miami Heat'),\n",
        "                     '2011-12':('Miami Heat','Oklahoma City Thunder'),\n",
        "                     '2012-13':('Miami Heat','San Antonio Spurs'),\n",
        "                     '2013-14':('San Antonio Spurs','Miami Heat'),\n",
        "                     '2014-15':('Golden State Warriors','Cleveland Cavaliers'),\n",
        "                     '2015-16':('Cleveland Cavaliers','Golden State Warriors'),\n",
        "                     '2016-17':('Golden State Warriors','Miami Heat'),\n",
        "                     '2017-18':('Dallas Mavericks','Cleveland Cavaliers'),\n",
        "                     '2018-19':('Toronto Raptors','Golden State Warriors'),\n",
        "                     '2019-20':('Los Angeles Lakers','Miami Heat'),\n",
        "                     '2020-21':('Milwaukee Bucks','Phoenix Suns'),\n",
        "                     '2021-22':('Golden State Warriors','Boston Celtics'),\n",
        "                     '2022-23':('Denver Nuggets','Miami Heat'),}\n",
        "\n",
        "\n",
        "#Dicionário para guardar resultado:\n",
        "importanciaEstatisticas = {'W_RANK': 0, 'L_RANK': 0, 'W_PCT_RANK': 0, 'MIN_RANK': 0, 'FGM_RANK': 0, 'FGA_RANK': 0, 'FG_PCT_RANK': 0, 'FG3M_RANK': 0, 'FG3A_RANK': 0, 'FG3_PCT_RANK': 0, 'FTM_RANK': 0, 'FTA_RANK': 0, 'FT_PCT_RANK': 0, 'OREB_RANK': 0, 'DREB_RANK': 0, 'REB_RANK': 0, 'AST_RANK': 0, 'TOV_RANK': 0, 'STL_RANK': 0, 'BLK_RANK': 0, 'BLKA_RANK': 0, 'PF_RANK': 0, 'PFD_RANK': 0, 'PTS_RANK': 0, 'PLUS_MINUS_RANK': 0}\n",
        "\n"
      ],
      "metadata": {
        "id": "mcPsl7JZY9tu"
      },
      "execution_count": null,
      "outputs": []
    },
    {
      "cell_type": "markdown",
      "source": [
        "A contagem da frequência irá funcionar da seguinte forma:\n",
        "\n",
        "O dataset de cada temporada possui para cada estatística duas colunas, uma é a estatística em si e a outra é um ranking que compara essa estatística dentre todos os times. Caso algum finalista esteja rankeado entre 1° e 4°, nós adicionamos 1 à importância/frequência dessa estatística. No final, o nosso dicionário terá, para cada estatística, um valor que representa a sua \"frequência\" como alto valor nos times finalistas."
      ],
      "metadata": {
        "id": "KtcfII-oMjaU"
      }
    },
    {
      "cell_type": "code",
      "source": [
        "def contarImportancia(importanciaEstatisticas, filePath, finalistas):\n",
        "  df = pd.read_csv(filePath)\n",
        "\n",
        "  first = df.loc[df['TEAM_NAME'] == finalistas[0]]\n",
        "  second = df.loc[df['TEAM_NAME'] == finalistas[1]]\n",
        "\n",
        "  firstRanks = first.iloc[:,30:]\n",
        "  secondRanks = second.iloc[:,30:]\n",
        "\n",
        "  for col in firstRanks.columns:\n",
        "    if(firstRanks[col].item() <= 4):\n",
        "      importanciaEstatisticas[col] = importanciaEstatisticas[col] + 1\n",
        "\n",
        "  for col in secondRanks.columns:\n",
        "    if(secondRanks[col].item() <= 4):\n",
        "      importanciaEstatisticas[col] = importanciaEstatisticas[col] + 1\n"
      ],
      "metadata": {
        "id": "KGXgyCIi0RYB"
      },
      "execution_count": null,
      "outputs": []
    },
    {
      "cell_type": "code",
      "source": [
        "#Aplicando a função em todas as temporadas\n",
        "directory = '/content/TPICD/data/basesSeparadas'\n",
        "\n",
        "for fileName in os.listdir(directory):\n",
        "    if(fileName != '.ipynb_checkpoints'):\n",
        "      filePath = os.path.join(directory, fileName)\n",
        "      season = fileName.split('.csv')[0]\n",
        "      contarImportancia(importanciaEstatisticas, filePath, seasonFirstSecond[season])\n",
        "\n"
      ],
      "metadata": {
        "id": "qP4Lhp7IuO8b"
      },
      "execution_count": null,
      "outputs": []
    },
    {
      "cell_type": "code",
      "source": [
        "#Apenas retirando '_RANK' dos nomes das estatísticas\n",
        "importanciaEstatisticasAux = {}\n",
        "\n",
        "for key in importanciaEstatisticas:\n",
        "  newKey = key.split('_RANK')[0]\n",
        "  importanciaEstatisticasAux[newKey] = importanciaEstatisticas[key]\n",
        "\n",
        "importanciaEstatisticas = importanciaEstatisticasAux"
      ],
      "metadata": {
        "id": "_DfXUDdt2NHd"
      },
      "execution_count": null,
      "outputs": []
    },
    {
      "cell_type": "code",
      "source": [
        "importanciaEstatisticas"
      ],
      "metadata": {
        "colab": {
          "base_uri": "https://localhost:8080/"
        },
        "id": "IsKapJNlBz7N",
        "outputId": "b551724e-44ba-4ede-a421-e1357f827f9e"
      },
      "execution_count": null,
      "outputs": [
        {
          "output_type": "execute_result",
          "data": {
            "text/plain": [
              "{'W': 23,\n",
              " 'L': 23,\n",
              " 'W_PCT': 23,\n",
              " 'MIN': 4,\n",
              " 'FGM': 11,\n",
              " 'FGA': 4,\n",
              " 'FG_PCT': 20,\n",
              " 'FG3M': 10,\n",
              " 'FG3A': 7,\n",
              " 'FG3_PCT': 10,\n",
              " 'FTM': 3,\n",
              " 'FTA': 4,\n",
              " 'FT_PCT': 7,\n",
              " 'OREB': 3,\n",
              " 'DREB': 15,\n",
              " 'REB': 7,\n",
              " 'AST': 12,\n",
              " 'TOV': 4,\n",
              " 'STL': 8,\n",
              " 'BLK': 8,\n",
              " 'BLKA': 16,\n",
              " 'PF': 8,\n",
              " 'PFD': 0,\n",
              " 'PTS': 9,\n",
              " 'PLUS_MINUS': 20}"
            ]
          },
          "metadata": {},
          "execution_count": 9
        }
      ]
    },
    {
      "cell_type": "markdown",
      "source": [
        "Por fim, nós plotamos nosso resultado:"
      ],
      "metadata": {
        "id": "skTnz99FOMgg"
      }
    },
    {
      "cell_type": "code",
      "source": [
        "x = list(importanciaEstatisticas.keys())\n",
        "y = list(importanciaEstatisticas.values())\n",
        "\n",
        "plt.barh(x, y)\n",
        "plt.xlabel('')\n",
        "plt.ylabel('')\n",
        "plt.title('Importância das estatísticas')\n",
        "\n",
        "plt.show()"
      ],
      "metadata": {
        "colab": {
          "base_uri": "https://localhost:8080/",
          "height": 453
        },
        "id": "BrjWJduY6Qsp",
        "outputId": "aa599e04-4d4d-4f9b-f426-f4cb7048b1d8"
      },
      "execution_count": null,
      "outputs": [
        {
          "output_type": "display_data",
          "data": {
            "text/plain": [
              "<Figure size 640x480 with 1 Axes>"
            ],
            "image/png": "[encoded data removed]"
          },
          "metadata": {}
        }
      ]
    },
    {
      "cell_type": "markdown",
      "source": [
        "Conseguimos dessa forma perceber algumas características que tem frequentemente altos valores dentre os times finalistas.\n",
        "\n",
        "Em uma análise posterior, esse resultado não se mostrará muito útil, mas decidimos deixá-lo aqui por ser parte do processo."
      ],
      "metadata": {
        "id": "MB-4cTqkOhkT"
      }
    }
  ]
}